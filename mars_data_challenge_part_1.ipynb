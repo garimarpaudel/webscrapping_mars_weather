{
 "cells": [
  {
   "cell_type": "code",
   "execution_count": 1,
   "id": "949bff40",
   "metadata": {},
   "outputs": [],
   "source": [
    "from splinter import Browser\n",
    "from bs4 import BeautifulSoup as soup\n",
    "from webdriver_manager.chrome import ChromeDriverManager"
   ]
  },
  {
   "cell_type": "code",
   "execution_count": 2,
   "id": "9f473638",
   "metadata": {},
   "outputs": [
    {
     "name": "stderr",
     "output_type": "stream",
     "text": [
      "[WDM] - Downloading: 100%|██████████| 6.46M/6.46M [00:01<00:00, 5.21MB/s]\n"
     ]
    }
   ],
   "source": [
    "# Set the executable path and initialize the chrome browser in splinter\n",
    "executable_path = {'executable_path': ChromeDriverManager().install()}\n",
    "browser = Browser('chrome', **executable_path, headless=False)"
   ]
  },
  {
   "cell_type": "code",
   "execution_count": 3,
   "id": "1b5f0607",
   "metadata": {},
   "outputs": [],
   "source": [
    "# Visit the Mars News site\n",
    "url = 'https://redplanetscience.com/'\n",
    "browser.visit(url)"
   ]
  },
  {
   "cell_type": "code",
   "execution_count": 4,
   "id": "1bcad5da",
   "metadata": {},
   "outputs": [],
   "source": [
    "# Parse the HTML\n",
    "html = browser.html\n",
    "news_soup = soup(html, 'html.parser')\n",
    "#slide_elem=news_soup.select_one('div.list_text')"
   ]
  },
  {
   "cell_type": "code",
   "execution_count": 5,
   "id": "496cd6c8",
   "metadata": {},
   "outputs": [
    {
     "name": "stdout",
     "output_type": "stream",
     "text": [
      "15\n",
      "A Martian Roundtrip: NASA's Perseverance Rover Sample Tubes\n",
      "Join NASA for the Launch of the Mars 2020 Perseverance Rover\n",
      "NASA's Ingenuity Mars Helicopter Recharges Its Batteries in Flight\n",
      "A New Video Captures the Science of NASA's Perseverance Mars Rover\n",
      "NASA Establishes Board to Initially Review Mars Sample Return Plans\n",
      "Newfound Martian Aurora Actually the Most Common; Sheds Light on Mars' Changing Climate\n",
      "AI Is Helping Scientists Discover Fresh Craters on Mars\n",
      "Two Rovers to Roll on Mars Again: Curiosity and Mars 2020\n",
      "NASA Mars Mission Connects With Bosnian and Herzegovinian Town\n",
      "NASA Prepares for Moon and Mars With New Addition to Its Deep Space Network\n",
      "NASA's Treasure Map for Water Ice on Mars\n",
      "NASA Wins 4 Webbys, 4 People's Voice Awards\n",
      "NASA's InSight 'Hears' Peculiar Sounds on Mars\n",
      "NASA's Mars 2020 Rover Goes Coast-to-Coast to Prep for Launch\n",
      "NASA's Mars Helicopter Attached to Mars 2020 Rover\n",
      "[<div class=\"content_title\">A Martian Roundtrip: NASA's Perseverance Rover Sample Tubes</div>, <div class=\"content_title\">Join NASA for the Launch of the Mars 2020 Perseverance Rover</div>, <div class=\"content_title\">NASA's Ingenuity Mars Helicopter Recharges Its Batteries in Flight</div>, <div class=\"content_title\">A New Video Captures the Science of NASA's Perseverance Mars Rover</div>, <div class=\"content_title\">NASA Establishes Board to Initially Review Mars Sample Return Plans</div>, <div class=\"content_title\">Newfound Martian Aurora Actually the Most Common; Sheds Light on Mars' Changing Climate</div>, <div class=\"content_title\">AI Is Helping Scientists Discover Fresh Craters on Mars</div>, <div class=\"content_title\">Two Rovers to Roll on Mars Again: Curiosity and Mars 2020</div>, <div class=\"content_title\">NASA Mars Mission Connects With Bosnian and Herzegovinian Town</div>, <div class=\"content_title\">NASA Prepares for Moon and Mars With New Addition to Its Deep Space Network</div>, <div class=\"content_title\">NASA's Treasure Map for Water Ice on Mars</div>, <div class=\"content_title\">NASA Wins 4 Webbys, 4 People's Voice Awards</div>, <div class=\"content_title\">NASA's InSight 'Hears' Peculiar Sounds on Mars</div>, <div class=\"content_title\">NASA's Mars 2020 Rover Goes Coast-to-Coast to Prep for Launch</div>, <div class=\"content_title\">NASA's Mars Helicopter Attached to Mars 2020 Rover </div>]\n"
     ]
    }
   ],
   "source": [
    "news_title = news_soup.find_all('div', class_='content_title')\n",
    "\n",
    "print(len(news_title))\n",
    "\n",
    "for a in news_title:\n",
    "    print(a.text.strip())\n",
    "    \n",
    "#news_p = html_soup.find_all('div', class_='article_teaser_body')[0].text\n",
    "print(news_title)\n",
    "#print(news_p)"
   ]
  },
  {
   "cell_type": "code",
   "execution_count": 6,
   "id": "a02cb19a",
   "metadata": {},
   "outputs": [
    {
     "name": "stdout",
     "output_type": "stream",
     "text": [
      "15\n",
      "Marvels of engineering, the rover's sample tubes must be tough enough to safely bring Red Planet samples on the long journey back to Earth in immaculate condition.\n",
      "No matter where you live, choose from a menu of activities to join NASA as we \"Countdown to Mars\" and launch the Perseverance rover to the Red Planet.\n",
      "Headed to the Red Planet with the Perseverance rover, the pioneering helicopter is powered up for the first time in interplanetary space as part of a systems check.\n",
      "With a targeted launch date of July 30, the next robotic scientist NASA is sending to the to the Red Planet has big ambitions.\n",
      "The board will assist with analysis of current plans and goals for one of the most difficult missions humanity has ever undertaken.\n",
      "A type of Martian aurora first identified by NASA’s MAVEN spacecraft in 2016 is actually the most common form of aurora occurring on the Red Planet, according to new results from the mission.\n",
      "It's the first time machine learning has been used to find previously unknown craters on the Red Planet.\n",
      "They look like twins. But under the hood, the rover currently exploring the Red Planet and the one launching there this summer have distinct science tools and roles to play.\n",
      "A letter from NASA was presented to the mayor of Jezero, Bosnia-Herzegovina, honoring the connection between the town and Jezero Crater, the Mars 2020 rover landing site.\n",
      "Robotic spacecraft will be able to communicate with the dish using radio waves and lasers.\n",
      "A new study identifies frozen water just below the Martian surface, where astronauts could easily dig it up.\n",
      "Winners include the JPL-managed \"Send Your Name to Mars\" campaign, NASA's Global Climate Change website and Solar System Interactive.\n",
      "Listen to the marsquakes and other, less-expected sounds that the Mars lander has been detecting.\n",
      "The agency's first step in returning rocks from Mars just arrived at Kennedy Space Center. The Mars 2020 team now begins readying for a launch to the Red Planet this July.\n",
      "The helicopter will be first aircraft to perform flight tests on another planet.\n"
     ]
    }
   ],
   "source": [
    "#news_p = html_soup.find_all('div', class_='article_teaser_body')[0].text\n",
    "# print(news_p)\n",
    "news_prev = news_soup.find_all('div', class_='article_teaser_body')\n",
    "\n",
    "print(len(news_prev))\n",
    "\n",
    "for a in news_prev:\n",
    "    print(a.text.strip())\n"
   ]
  },
  {
   "cell_type": "code",
   "execution_count": 7,
   "id": "de6ed403",
   "metadata": {},
   "outputs": [],
   "source": [
    "mars_news={}\n",
    "title=news_soup.find_all('div', class_='list_text')\n",
    "for x in title:\n",
    "    title_news=x.find('div', class_='content_title')\n",
    "    prev_news=x.find('div', class_='article_teaser_body')\n",
    "    mars_news[title_news]=prev_news\n",
    "    \n"
   ]
  },
  {
   "cell_type": "code",
   "execution_count": 8,
   "id": "73c262d5",
   "metadata": {},
   "outputs": [
    {
     "data": {
      "text/plain": [
       "{<div class=\"content_title\">A Martian Roundtrip: NASA's Perseverance Rover Sample Tubes</div>: <div class=\"article_teaser_body\">Marvels of engineering, the rover's sample tubes must be tough enough to safely bring Red Planet samples on the long journey back to Earth in immaculate condition. </div>,\n",
       " <div class=\"content_title\">Join NASA for the Launch of the Mars 2020 Perseverance Rover</div>: <div class=\"article_teaser_body\">No matter where you live, choose from a menu of activities to join NASA as we \"Countdown to Mars\" and launch the Perseverance rover to the Red Planet.</div>,\n",
       " <div class=\"content_title\">NASA's Ingenuity Mars Helicopter Recharges Its Batteries in Flight</div>: <div class=\"article_teaser_body\">Headed to the Red Planet with the Perseverance rover, the pioneering helicopter is powered up for the first time in interplanetary space as part of a systems check.</div>,\n",
       " <div class=\"content_title\">A New Video Captures the Science of NASA's Perseverance Mars Rover</div>: <div class=\"article_teaser_body\">With a targeted launch date of July 30, the next robotic scientist NASA is sending to the to the Red Planet has big ambitions.</div>,\n",
       " <div class=\"content_title\">NASA Establishes Board to Initially Review Mars Sample Return Plans</div>: <div class=\"article_teaser_body\">The board will assist with analysis of current plans and goals for one of the most difficult missions humanity has ever undertaken.</div>,\n",
       " <div class=\"content_title\">Newfound Martian Aurora Actually the Most Common; Sheds Light on Mars' Changing Climate</div>: <div class=\"article_teaser_body\">A type of Martian aurora first identified by NASA’s MAVEN spacecraft in 2016 is actually the most common form of aurora occurring on the Red Planet, according to new results from the mission.</div>,\n",
       " <div class=\"content_title\">AI Is Helping Scientists Discover Fresh Craters on Mars</div>: <div class=\"article_teaser_body\">It's the first time machine learning has been used to find previously unknown craters on the Red Planet.</div>,\n",
       " <div class=\"content_title\">Two Rovers to Roll on Mars Again: Curiosity and Mars 2020</div>: <div class=\"article_teaser_body\">They look like twins. But under the hood, the rover currently exploring the Red Planet and the one launching there this summer have distinct science tools and roles to play.</div>,\n",
       " <div class=\"content_title\">NASA Mars Mission Connects With Bosnian and Herzegovinian Town</div>: <div class=\"article_teaser_body\">A letter from NASA was presented to the mayor of Jezero, Bosnia-Herzegovina, honoring the connection between the town and Jezero Crater, the Mars 2020 rover landing site.</div>,\n",
       " <div class=\"content_title\">NASA Prepares for Moon and Mars With New Addition to Its Deep Space Network</div>: <div class=\"article_teaser_body\">Robotic spacecraft will be able to communicate with the dish using radio waves and lasers.</div>,\n",
       " <div class=\"content_title\">NASA's Treasure Map for Water Ice on Mars</div>: <div class=\"article_teaser_body\">A new study identifies frozen water just below the Martian surface, where astronauts could easily dig it up.</div>,\n",
       " <div class=\"content_title\">NASA Wins 4 Webbys, 4 People's Voice Awards</div>: <div class=\"article_teaser_body\">Winners include the JPL-managed \"Send Your Name to Mars\" campaign, NASA's Global Climate Change website and Solar System Interactive.</div>,\n",
       " <div class=\"content_title\">NASA's InSight 'Hears' Peculiar Sounds on Mars</div>: <div class=\"article_teaser_body\">Listen to the marsquakes and other, less-expected sounds that the Mars lander has been detecting.</div>,\n",
       " <div class=\"content_title\">NASA's Mars 2020 Rover Goes Coast-to-Coast to Prep for Launch</div>: <div class=\"article_teaser_body\">The agency's first step in returning rocks from Mars just arrived at Kennedy Space Center. The Mars 2020 team now begins readying for a launch to the Red Planet this July.</div>,\n",
       " <div class=\"content_title\">NASA's Mars Helicopter Attached to Mars 2020 Rover </div>: <div class=\"article_teaser_body\">The helicopter will be first aircraft to perform flight tests on another planet.</div>}"
      ]
     },
     "execution_count": 8,
     "metadata": {},
     "output_type": "execute_result"
    }
   ],
   "source": [
    "mars_news"
   ]
  },
  {
   "cell_type": "code",
   "execution_count": null,
   "id": "1acdefb9",
   "metadata": {},
   "outputs": [],
   "source": []
  },
  {
   "cell_type": "code",
   "execution_count": null,
   "id": "4e90983b",
   "metadata": {},
   "outputs": [],
   "source": []
  },
  {
   "cell_type": "code",
   "execution_count": null,
   "id": "f43af9a4",
   "metadata": {},
   "outputs": [],
   "source": []
  }
 ],
 "metadata": {
  "kernelspec": {
   "display_name": "PythonData",
   "language": "python",
   "name": "pythondata"
  },
  "language_info": {
   "codemirror_mode": {
    "name": "ipython",
    "version": 3
   },
   "file_extension": ".py",
   "mimetype": "text/x-python",
   "name": "python",
   "nbconvert_exporter": "python",
   "pygments_lexer": "ipython3",
   "version": "3.7.13"
  }
 },
 "nbformat": 4,
 "nbformat_minor": 5
}
